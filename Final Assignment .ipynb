{
 "cells": [
  {
   "cell_type": "markdown",
   "id": "8df1f26c-9bd8-4038-8999-46e57eeaf935",
   "metadata": {},
   "source": [
    "# My Jupyter Notebook on IBM Watson Studio"
   ]
  },
  {
   "cell_type": "markdown",
   "id": "e654dbdc-f2c3-45c9-aa90-e3d989bed6d8",
   "metadata": {},
   "source": [
    "**Jorge Rada**"
   ]
  },
  {
   "cell_type": "markdown",
   "id": "143bc793-ca82-4c64-bb6e-7b2f729f6f73",
   "metadata": {},
   "source": [
    "Associate"
   ]
  },
  {
   "cell_type": "markdown",
   "id": "5dbe9699-3cb2-4aa9-944d-bc0b76307528",
   "metadata": {},
   "source": [
    "*I am interested in data science because I want to expand my skills in financial analysis by using more data science tools.*"
   ]
  },
  {
   "cell_type": "markdown",
   "id": "b017a04c-a7d9-4124-90e4-4dec384d4545",
   "metadata": {},
   "source": [
    "### The Following Code will subtract 20 from 30"
   ]
  },
  {
   "cell_type": "code",
   "execution_count": 7,
   "id": "249252bb-7d01-403d-975f-63571586914a",
   "metadata": {},
   "outputs": [
    {
     "data": {
      "text/plain": [
       "10"
      ]
     },
     "execution_count": 7,
     "metadata": {},
     "output_type": "execute_result"
    }
   ],
   "source": [
    "30-20"
   ]
  },
  {
   "cell_type": "markdown",
   "id": "21ac1685-ce09-4a7d-a4c5-eede7e98d0e6",
   "metadata": {},
   "source": [
    "Grocery List\n",
    "\n",
    "---\n",
    "1. Eggs\n",
    "2. Bread\n",
    "3. ~~Milk~~\n",
    "4. Cheese:\n",
    "    * Cheddar\n",
    "    * Mozzarella"
   ]
  }
 ],
 "metadata": {
  "kernelspec": {
   "display_name": "Python",
   "language": "python",
   "name": "conda-env-python-py"
  },
  "language_info": {
   "codemirror_mode": {
    "name": "ipython",
    "version": 3
   },
   "file_extension": ".py",
   "mimetype": "text/x-python",
   "name": "python",
   "nbconvert_exporter": "python",
   "pygments_lexer": "ipython3",
   "version": "3.7.12"
  }
 },
 "nbformat": 4,
 "nbformat_minor": 5
}
